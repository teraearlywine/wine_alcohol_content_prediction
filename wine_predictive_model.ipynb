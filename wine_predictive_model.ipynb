{
 "cells": [
  {
   "cell_type": "code",
   "execution_count": 1,
   "metadata": {},
   "outputs": [],
   "source": [
    "import pandas as pd \n",
    "from sklearn.model_selection import train_test_split \n",
    "from sklearn.linear_model import LinearRegression \n",
    "from sklearn import metrics \n",
    "import matplotlib.pyplot as plt \n",
    "import numpy as np \n",
    "import seaborn as sns\n",
    "\n",
    "#wine machine learning project\n",
    "from sklearn import datasets\n"
   ]
  },
  {
   "cell_type": "code",
   "execution_count": 3,
   "metadata": {},
   "outputs": [
    {
     "data": {
      "text/html": [
       "<div>\n",
       "<style scoped>\n",
       "    .dataframe tbody tr th:only-of-type {\n",
       "        vertical-align: middle;\n",
       "    }\n",
       "\n",
       "    .dataframe tbody tr th {\n",
       "        vertical-align: top;\n",
       "    }\n",
       "\n",
       "    .dataframe thead th {\n",
       "        text-align: right;\n",
       "    }\n",
       "</style>\n",
       "<table border=\"1\" class=\"dataframe\">\n",
       "  <thead>\n",
       "    <tr style=\"text-align: right;\">\n",
       "      <th></th>\n",
       "      <th>alcohol</th>\n",
       "      <th>malic_acid</th>\n",
       "      <th>ash</th>\n",
       "      <th>alcalinity_of_ash</th>\n",
       "      <th>magnesium</th>\n",
       "      <th>total_phenols</th>\n",
       "      <th>flavanoids</th>\n",
       "      <th>nonflavanoid_phenols</th>\n",
       "      <th>proanthocyanins</th>\n",
       "      <th>color_intensity</th>\n",
       "      <th>hue</th>\n",
       "      <th>od280/od315_of_diluted_wines</th>\n",
       "      <th>proline</th>\n",
       "      <th>target</th>\n",
       "    </tr>\n",
       "  </thead>\n",
       "  <tbody>\n",
       "    <tr>\n",
       "      <th>0</th>\n",
       "      <td>14.23</td>\n",
       "      <td>1.71</td>\n",
       "      <td>2.43</td>\n",
       "      <td>15.6</td>\n",
       "      <td>127.0</td>\n",
       "      <td>2.80</td>\n",
       "      <td>3.06</td>\n",
       "      <td>0.28</td>\n",
       "      <td>2.29</td>\n",
       "      <td>5.64</td>\n",
       "      <td>1.04</td>\n",
       "      <td>3.92</td>\n",
       "      <td>1065.0</td>\n",
       "      <td>0.0</td>\n",
       "    </tr>\n",
       "    <tr>\n",
       "      <th>1</th>\n",
       "      <td>13.20</td>\n",
       "      <td>1.78</td>\n",
       "      <td>2.14</td>\n",
       "      <td>11.2</td>\n",
       "      <td>100.0</td>\n",
       "      <td>2.65</td>\n",
       "      <td>2.76</td>\n",
       "      <td>0.26</td>\n",
       "      <td>1.28</td>\n",
       "      <td>4.38</td>\n",
       "      <td>1.05</td>\n",
       "      <td>3.40</td>\n",
       "      <td>1050.0</td>\n",
       "      <td>0.0</td>\n",
       "    </tr>\n",
       "    <tr>\n",
       "      <th>2</th>\n",
       "      <td>13.16</td>\n",
       "      <td>2.36</td>\n",
       "      <td>2.67</td>\n",
       "      <td>18.6</td>\n",
       "      <td>101.0</td>\n",
       "      <td>2.80</td>\n",
       "      <td>3.24</td>\n",
       "      <td>0.30</td>\n",
       "      <td>2.81</td>\n",
       "      <td>5.68</td>\n",
       "      <td>1.03</td>\n",
       "      <td>3.17</td>\n",
       "      <td>1185.0</td>\n",
       "      <td>0.0</td>\n",
       "    </tr>\n",
       "    <tr>\n",
       "      <th>3</th>\n",
       "      <td>14.37</td>\n",
       "      <td>1.95</td>\n",
       "      <td>2.50</td>\n",
       "      <td>16.8</td>\n",
       "      <td>113.0</td>\n",
       "      <td>3.85</td>\n",
       "      <td>3.49</td>\n",
       "      <td>0.24</td>\n",
       "      <td>2.18</td>\n",
       "      <td>7.80</td>\n",
       "      <td>0.86</td>\n",
       "      <td>3.45</td>\n",
       "      <td>1480.0</td>\n",
       "      <td>0.0</td>\n",
       "    </tr>\n",
       "    <tr>\n",
       "      <th>4</th>\n",
       "      <td>13.24</td>\n",
       "      <td>2.59</td>\n",
       "      <td>2.87</td>\n",
       "      <td>21.0</td>\n",
       "      <td>118.0</td>\n",
       "      <td>2.80</td>\n",
       "      <td>2.69</td>\n",
       "      <td>0.39</td>\n",
       "      <td>1.82</td>\n",
       "      <td>4.32</td>\n",
       "      <td>1.04</td>\n",
       "      <td>2.93</td>\n",
       "      <td>735.0</td>\n",
       "      <td>0.0</td>\n",
       "    </tr>\n",
       "  </tbody>\n",
       "</table>\n",
       "</div>"
      ],
      "text/plain": [
       "   alcohol  malic_acid   ash  alcalinity_of_ash  magnesium  total_phenols  \\\n",
       "0    14.23        1.71  2.43               15.6      127.0           2.80   \n",
       "1    13.20        1.78  2.14               11.2      100.0           2.65   \n",
       "2    13.16        2.36  2.67               18.6      101.0           2.80   \n",
       "3    14.37        1.95  2.50               16.8      113.0           3.85   \n",
       "4    13.24        2.59  2.87               21.0      118.0           2.80   \n",
       "\n",
       "   flavanoids  nonflavanoid_phenols  proanthocyanins  color_intensity   hue  \\\n",
       "0        3.06                  0.28             2.29             5.64  1.04   \n",
       "1        2.76                  0.26             1.28             4.38  1.05   \n",
       "2        3.24                  0.30             2.81             5.68  1.03   \n",
       "3        3.49                  0.24             2.18             7.80  0.86   \n",
       "4        2.69                  0.39             1.82             4.32  1.04   \n",
       "\n",
       "   od280/od315_of_diluted_wines  proline  target  \n",
       "0                          3.92   1065.0     0.0  \n",
       "1                          3.40   1050.0     0.0  \n",
       "2                          3.17   1185.0     0.0  \n",
       "3                          3.45   1480.0     0.0  \n",
       "4                          2.93    735.0     0.0  "
      ]
     },
     "execution_count": 3,
     "metadata": {},
     "output_type": "execute_result"
    }
   ],
   "source": [
    "wine = datasets.load_wine()\n",
    "df = pd.DataFrame(data = np.c_[wine['data'], wine['target']],\n",
    "                  columns= wine['feature_names']+['target'])\n",
    "df.head()"
   ]
  },
  {
   "cell_type": "code",
   "execution_count": 4,
   "metadata": {},
   "outputs": [
    {
     "name": "stdout",
     "output_type": "stream",
     "text": [
      "malic_acid                      0.094397\n",
      "ash                             0.211545\n",
      "alcalinity_of_ash              -0.310235\n",
      "magnesium                       0.270798\n",
      "total_phenols                   0.289101\n",
      "flavanoids                      0.236815\n",
      "nonflavanoid_phenols           -0.155929\n",
      "proanthocyanins                 0.136698\n",
      "color_intensity                 0.546364\n",
      "hue                            -0.071747\n",
      "od280/od315_of_diluted_wines    0.072343\n",
      "proline                         0.643720\n",
      "target                         -0.328222\n",
      "Name: alcohol, dtype: float64\n"
     ]
    }
   ],
   "source": [
    "##Correlation of alcohol between each attribute of wine.\n",
    "correlation = df.corr()['alcohol'].drop('alcohol')\n",
    "print(correlation)"
   ]
  },
  {
   "cell_type": "code",
   "execution_count": 5,
   "metadata": {},
   "outputs": [
    {
     "data": {
      "image/png": "[encoded data removed]",
      "text/plain": [
       "<Figure size 432x288 with 2 Axes>"
      ]
     },
     "metadata": {
      "needs_background": "light"
     },
     "output_type": "display_data"
    }
   ],
   "source": [
    "#display correlation \n",
    "heat_map_of_correlation = sns.heatmap(df.corr())\n",
    "plt.show()"
   ]
  },
  {
   "cell_type": "code",
   "execution_count": 6,
   "metadata": {},
   "outputs": [],
   "source": [
    "### define a function to output features above a threshold value.\n",
    "def get_features(correlation_threshold):\n",
    "    abs_corrs = correlation.abs()\n",
    "    high_correlations = abs_corrs\n",
    "    [abs_corrs > correlation_threshold]\n",
    "    new = pd.DataFrame(high_correlations).index.values.tolist()\n",
    "    return new\n"
   ]
  },
  {
   "cell_type": "code",
   "execution_count": 7,
   "metadata": {},
   "outputs": [
    {
     "name": "stdout",
     "output_type": "stream",
     "text": [
      "['malic_acid', 'ash', 'alcalinity_of_ash', 'magnesium', 'total_phenols', 'flavanoids', 'nonflavanoid_phenols', 'proanthocyanins', 'color_intensity', 'hue', 'od280/od315_of_diluted_wines', 'proline', 'target']\n"
     ]
    }
   ],
   "source": [
    "#vector x containing input features and y containing alcohol variable. For use in training\n",
    "    \n",
    "features = get_features(0.05)#threshold value is arbitrary\n",
    "print(features)\n",
    "\n",
    "x = df[features]\n",
    "y = df['alcohol']"
   ]
  },
  {
   "cell_type": "code",
   "execution_count": 8,
   "metadata": {},
   "outputs": [
    {
     "data": {
      "text/plain": [
       "LinearRegression(copy_X=True, fit_intercept=True, n_jobs=None, normalize=False)"
      ]
     },
     "execution_count": 8,
     "metadata": {},
     "output_type": "execute_result"
    }
   ],
   "source": [
    "#test_train setup\n",
    "x_train,x_test,y_train,y_test=train_test_split(x,y,random_state=3)\n",
    "\n",
    "#fit linear regression to training data\n",
    "regressor = LinearRegression()\n",
    "regressor.fit(x_train,y_train)"
   ]
  },
  {
   "cell_type": "code",
   "execution_count": 9,
   "metadata": {},
   "outputs": [
    {
     "name": "stdout",
     "output_type": "stream",
     "text": [
      "[13.86881364 14.32216187 13.16539363 13.2525364  12.46561186 13.56868765\n",
      " 13.34921741 13.5504077  13.08915549 12.04696753 12.29740072 12.30148573\n",
      " 12.39905592 13.90184383 13.04930848 13.44922644 12.11733734 13.37118129\n",
      " 13.78660072 13.19744682 12.85576314 13.6974221  12.32228766 12.61477492\n",
      " 13.87351556 12.32670053 13.92989284 13.34412532 12.69046033 13.88387882\n",
      " 12.3816234  12.70573676 13.62886674 12.58596374 12.11720327 12.8208731\n",
      " 12.47630894 12.39943568 13.91912844 13.72271295 13.36855284 13.19286694\n",
      " 13.10068498 13.81661485 12.74123086 11.80054892 13.53163448 13.74324754\n",
      " 13.69236662 13.62541427 12.34671812 12.96248341 12.68028261 12.4705102\n",
      " 12.0117594  13.31485509 13.48937805 13.53843506 12.70201338 13.65426234\n",
      " 13.9932608  12.52038939 13.01581251 13.70028634 13.59007113 13.46288662\n",
      " 13.71576727 12.51060656 12.51437    13.64502427 12.67456177 13.10500191\n",
      " 12.16713847 12.36818087 13.39305018 12.06313298 13.86061528 12.50618158\n",
      " 12.34131708 12.62910908 12.20501331 13.36603656 12.46189364 12.71162589\n",
      " 11.98225199 12.28548593 13.61043358 12.22630955 13.42822538 12.07898065\n",
      " 14.52810122 13.17809524 13.63639929 13.69880611 13.47433387 12.20133807\n",
      " 14.26307461 12.38794988 13.45859263 13.50090868 12.49664668 12.47376546\n",
      " 13.91924878 13.93079853 12.66577381 13.44791177 12.25697617 12.27576004\n",
      " 12.42284579 12.54996493 12.3981162  12.63445197 12.9418525  13.6842433\n",
      " 12.48893998 12.88972829 12.59682742 13.63629958 12.59912623 12.2184318\n",
      " 13.20920337 13.7792802  12.31964904 13.28353419 12.95200209 13.36972808\n",
      " 12.30520988 13.31124287 13.59709903 13.69127155 12.51351663 12.43034087\n",
      " 12.39921813]\n"
     ]
    }
   ],
   "source": [
    "#coefficients of 10 features w. highest alcohol content\n",
    "regressor.coef_\n",
    "#train data\n",
    "train_pred = regressor.predict(x_train)\n",
    "print(train_pred)"
   ]
  },
  {
   "cell_type": "code",
   "execution_count": 10,
   "metadata": {},
   "outputs": [
    {
     "name": "stdout",
     "output_type": "stream",
     "text": [
      "[13.49598167 14.15507639 13.48711251 12.1692804  13.50000297 13.40217613\n",
      " 13.74262612 12.33715258 12.56509323 13.3203596  12.528014   14.22433724\n",
      " 12.28741309 12.64654574 13.76016455 13.87174902 12.13793008 14.28644901\n",
      " 12.82730977 12.82969699 13.76690143 12.81642099 13.2084283  13.51863535\n",
      " 12.1588894  12.23608322 13.4954501  13.57211454 12.14665506 12.97493473\n",
      " 12.98754448 13.36140189 12.35982145 12.31860128 12.01704517 12.15877261\n",
      " 13.56628047 12.58611112 14.02571973 12.83735749 14.11651383 12.8994589\n",
      " 12.54498129 12.33650643 12.68336269]\n"
     ]
    }
   ],
   "source": [
    "#test data\n",
    "test_pred = regressor.predict(x_test)\n",
    "print(test_pred)"
   ]
  },
  {
   "cell_type": "code",
   "execution_count": 16,
   "metadata": {},
   "outputs": [
    {
     "name": "stdout",
     "output_type": "stream",
     "text": [
      "0.49838131848906775\n",
      "0.5469390432503023\n"
     ]
    }
   ],
   "source": [
    "\n",
    "###root mean squared error calculation. If test>train, data is overfitted.\n",
    "train_rmse = metrics.mean_squared_error(train_pred, y_train)** 0.5\n",
    "print(train_rmse)\n",
    "\n",
    "test_rmse = metrics.mean_squared_error(test_pred, y_test)**0.5\n",
    "print(test_rmse)"
   ]
  },
  {
   "cell_type": "code",
   "execution_count": 17,
   "metadata": {},
   "outputs": [
    {
     "name": "stdout",
     "output_type": "stream",
     "text": [
      "[13. 14. 13. 12. 14. 13. 14. 12. 13. 13. 13. 14. 12. 13. 14. 14. 12. 14.\n",
      " 13. 13. 14. 13. 13. 14. 12. 12. 13. 14. 12. 13. 13. 13. 12. 12. 12. 12.\n",
      " 14. 13. 14. 13. 14. 13. 13. 12. 13.]\n"
     ]
    }
   ],
   "source": [
    "#round off predicted values for test set\n",
    "predicted_data = np.round_(test_pred)\n",
    "print(predicted_data)"
   ]
  },
  {
   "cell_type": "code",
   "execution_count": 18,
   "metadata": {},
   "outputs": [
    {
     "name": "stdout",
     "output_type": "stream",
     "text": [
      "Mean Absolute Error: 0.40089946199153004\n",
      "Mean Squared Error: 0.299142317031556\n",
      "Root Mean Squared Error: 0.5469390432503023\n"
     ]
    }
   ],
   "source": [
    "print('Mean Absolute Error:', metrics.mean_absolute_error(y_test, test_pred))\n",
    "print('Mean Squared Error:', metrics.mean_squared_error(y_test, test_pred))\n",
    "print('Root Mean Squared Error:', np.sqrt(metrics.mean_squared_error(y_test, test_pred)))\n"
   ]
  },
  {
   "cell_type": "code",
   "execution_count": 19,
   "metadata": {},
   "outputs": [
    {
     "name": "stdout",
     "output_type": "stream",
     "text": [
      "                              Coeffecient\n",
      "malic_acid                       0.146177\n",
      "ash                              0.148035\n",
      "alcalinity_of_ash               -0.029664\n",
      "magnesium                        0.001489\n",
      "total_phenols                    0.036806\n",
      "flavanoids                      -0.176020\n",
      "nonflavanoid_phenols             0.371827\n",
      "proanthocyanins                 -0.077715\n",
      "color_intensity                  0.183995\n",
      "hue                              0.346620\n",
      "od280/od315_of_diluted_wines     0.035958\n",
      "proline                          0.000649\n",
      "target                          -0.488855\n"
     ]
    }
   ],
   "source": [
    "\n",
    "coeffecients = pd.DataFrame(regressor.coef_,features) \n",
    "coeffecients.columns = ['Coeffecient'] \n",
    "print(coeffecients)\n"
   ]
  },
  {
   "cell_type": "code",
   "execution_count": null,
   "metadata": {},
   "outputs": [],
   "source": []
  }
 ],
 "metadata": {
  "kernelspec": {
   "display_name": "Python 3",
   "language": "python",
   "name": "python3"
  },
  "language_info": {
   "codemirror_mode": {
    "name": "ipython",
    "version": 3
   },
   "file_extension": ".py",
   "mimetype": "text/x-python",
   "name": "python",
   "nbconvert_exporter": "python",
   "pygments_lexer": "ipython3",
   "version": "3.7.6"
  }
 },
 "nbformat": 4,
 "nbformat_minor": 4
}
